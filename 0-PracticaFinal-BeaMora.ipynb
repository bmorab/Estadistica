{
 "cells": [
  {
   "cell_type": "code",
   "execution_count": null,
   "metadata": {},
   "outputs": [],
   "source": [
    "library(ggplot2)\n",
    "options(repr.plot.height=4,repr.plot.width=6)\n"
   ]
  },
  {
   "cell_type": "markdown",
   "metadata": {},
   "source": [
    "Cargar los datos en un dataframe llamado: airbnb"
   ]
  },
  {
   "cell_type": "code",
   "execution_count": null,
   "metadata": {},
   "outputs": [],
   "source": [
    "airbnb<-read.csv('data//airbnb.csv',sep = ',')"
   ]
  },
  {
   "cell_type": "markdown",
   "metadata": {},
   "source": [
    "Mostrar las primeras 6 filas del dataframe"
   ]
  },
  {
   "cell_type": "code",
   "execution_count": null,
   "metadata": {},
   "outputs": [],
   "source": [
    "head(airbnb)"
   ]
  },
  {
   "cell_type": "markdown",
   "metadata": {},
   "source": [
    "Renombrar las columnas de la siguiente forma:\n",
    "\n",
    "| Nombre original | Nuevo nombre |\n",
    "| - | - |\n",
    "| Zipcode | CodigoPostal |\n",
    "| Neighbourhood.Cleansed | Barrio |\n",
    "| Property.Type\t| TipoPropiedad |\n",
    "| Room.Type | TipoAlquiler |\n",
    "| Accommodates | MaxOcupantes |\n",
    "| Bathrooms\t| NumBanyos |\n",
    "| Bedrooms\t| NumDormitorios |\n",
    "| Beds\t|  NumCamas |\n",
    "| Bed.Type\t| TipoCama |\n",
    "| Amenities | Comodidades |\n",
    "| Square.Feet | PiesCuadrados |\n",
    "| Price\t| Precio |\n",
    "| Review.Scores.Rating | Puntuacion |"
   ]
  },
  {
   "cell_type": "code",
   "execution_count": null,
   "metadata": {
    "scrolled": true
   },
   "outputs": [],
   "source": [
    "newnames<-c(\"CodigoPostal\",\"Barrio\",\"TipoPropiedad\",\"TipoAlquiler\",\"MaxOcupantes\",\"NumBanyos\",\n",
    "\"NumDormitorios\",\"NumCamas\",\"TipoCama\",\"Comodidades\",\"PiesCuadrados\",\"Precio\",\"Puntuacion\")\n",
    "names (airbnb) = newnames\n",
    "colnames (airbnb)"
   ]
  },
  {
   "cell_type": "markdown",
   "metadata": {},
   "source": [
    "Crea una nueva columna llamada MetrosCuadrados a partir de la columna PiesCuadrados.\n",
    "\n",
    "Ayuda: 1 pie cuadrado son 0,092903 metros cuadrdados"
   ]
  },
  {
   "cell_type": "code",
   "execution_count": null,
   "metadata": {},
   "outputs": [],
   "source": [
    "conversionPieMetros = 0.092903\n",
    "airbnb$MetrosCuadrados = airbnb$PiesCuadrados * conversionPieMetros\n",
    "airbnb [, c(1:10, 12, 13, 11, 14)]\n",
    "head(airbnb)"
   ]
  },
  {
   "cell_type": "markdown",
   "metadata": {},
   "source": [
    "Miremos el código postal. Es una variable con entradas erroneas.\n",
    "Hay valores como '', '-'  y '28' que deberían ser considerados como NA.\n",
    "Así mismo también debería ser NA todos los que no empiecen por 28, ya que estamos con códigos postales de Madrid\n",
    "\n",
    "El código postal 28002, 28004 y 28051 tienen entradas repetidas. \n",
    "Por ejemplo las entradas 28002\\n20882 deberían ir dnetro de 28002\n",
    "\n",
    "El codigo 2804 debería ser 28004, 2805 deberia ser 28005 y 2815 juncto con 2815 debería ser 28015\n",
    "\n",
    "Limpia los datos de la columna Codigo Postal"
   ]
  },
  {
   "cell_type": "code",
   "execution_count": null,
   "metadata": {},
   "outputs": [],
   "source": [
    "#airbnb$CodigoPostal"
   ]
  },
  {
   "cell_type": "code",
   "execution_count": null,
   "metadata": {},
   "outputs": [],
   "source": [
    "numRows = nrow(airbnb)\n",
    "valErroneos = c(2804, 2805, 2815, '28002\\n28002' , '28004\\n28004', '28051\\n28051' )\n",
    "valCorrectos = c(28004, 28005, 28015, 28002, 28004, 28051)\n",
    "#valInvalido = c('', '-', '⋯' , 28, 'Madrid 28004')\n",
    "\n",
    "#for(i in 1:length(valInvalido)){\n",
    "#    airbnb$CodigoPostal[airbnb$CodigoPostal == valInvalido[i]] = NA\n",
    "#}\n",
    "\n",
    "\n",
    "for(i in 1:length(valErroneos)){\n",
    "    idx = grep({valErroneos[i]}, airbnb$CodigoPostal)\n",
    "    size = nchar(as.character(airbnb$CodigoPostal[i]))  \n",
    "    for (ii in 1:length(idx)){\n",
    "        if (size == 4 && is.na(airbnb$CodigoPostal[i]) == FALSE){\n",
    "            airbnb$CodigoPostal[idx[ii]] = valCorrectos[i]\n",
    "        }\n",
    "    }\n",
    "}\n",
    "\n",
    "for(i in 1:numRows){ \n",
    "    size = nchar(as.character(airbnb$CodigoPostal[i]))    \n",
    "    if (size != 5 && is.na(airbnb$CodigoPostal[i]) == FALSE) {\n",
    "        airbnb$CodigoPostal[i] = NA \n",
    "    }\n",
    "    \n",
    "}\n",
    "\n",
    "idx28 = grepl(\"^28\", airbnb$CodigoPostal)\n",
    "airbnb$CodigoPostal[idx28 == FALSE] = NA\n",
    "\n",
    "\n",
    "summary(airbnb$CodigoPostal)     "
   ]
  },
  {
   "cell_type": "markdown",
   "metadata": {},
   "source": [
    "Una vez limpios los datos ¿Cuales son los códigos postales que tenemos? "
   ]
  },
  {
   "cell_type": "code",
   "execution_count": null,
   "metadata": {},
   "outputs": [],
   "source": [
    "sort(unique(airbnb$CodigoPostal))\n"
   ]
  },
  {
   "cell_type": "markdown",
   "metadata": {},
   "source": [
    "¿Cuales son los 5 códigos postales con más entradas? ¿Y con menos? ¿Cuantas entradas tienen?"
   ]
  },
  {
   "cell_type": "code",
   "execution_count": null,
   "metadata": {},
   "outputs": [],
   "source": [
    "tblCP = sort(table(airbnb$CodigoPostal))\n",
    "\n",
    "# clean table from frequency values == 0\n",
    "tblCP1 = tblCP [which(tblCP != 0)]\n",
    "lengthtblCP = length(tblCP1)\n",
    "\n",
    "paste('Los 5 códigos postales con MÁS entradas son: ' ) \n",
    "paste( paste0( 'CP:', names(tblCP1)[lengthtblCP:(lengthtblCP-4)]), tblCP1[lengthtblCP:(lengthtblCP-4)] , sep=\" --> \" )\n",
    "\n",
    "paste('Los 5 códigos postales con MENOS entradas son: ')\n",
    "paste( paste0('CP:', names(tblCP1)[1:5]), tblCP1[1:5] , sep=\" --> \" )"
   ]
  },
  {
   "cell_type": "markdown",
   "metadata": {},
   "source": [
    "¿Cuales son los barrios que hay en el código postal 28012?"
   ]
  },
  {
   "cell_type": "code",
   "execution_count": null,
   "metadata": {},
   "outputs": [],
   "source": [
    "idx = which(airbnb$CodigoPostal == '28012')\n",
    "barriosCP28012 = unique(airbnb$Barrio[idx])\n",
    "paste('Los barrios que tienen CP 28012 son:')\n",
    "barriosCP28012"
   ]
  },
  {
   "cell_type": "markdown",
   "metadata": {},
   "source": [
    "¿Cuantas entradas hay en cada uno de esos barrios para el codigo postao 28012? Asumiendo que el identificador de Barrio sea correcto, ¿es fiable la columna de código postal?"
   ]
  },
  {
   "cell_type": "code",
   "execution_count": null,
   "metadata": {},
   "outputs": [],
   "source": [
    "tblbarrio28012 = table(airbnb$Barrio[idx])\n",
    "tblbarrio28012 = tblbarrio28012[which(tblbarrio28012 != 0)]\n",
    "paste('Número de registros para cada barrio con CP 28012')\n",
    "paste(paste0( 'Barrio:', names(tblbarrio28012)), tblbarrio28012, sep=\" --> \" )\n",
    "\n",
    "paste('PREGUNTA: ¿es fiable la columna de código postal? ')\n",
    "paste('RESPUESTA: Pienso que el código 28012 compreende demasiados barrios diferentes. ')"
   ]
  },
  {
   "cell_type": "markdown",
   "metadata": {},
   "source": [
    "¿Cuantos barrios hay en todo el dataset airbnb? ¿Cuales son?"
   ]
  },
  {
   "cell_type": "code",
   "execution_count": null,
   "metadata": {},
   "outputs": [],
   "source": [
    "tblbarrios = table(airbnb$Barrio)\n",
    "paste0('El número de barrios diferentes que hay en el dataset es: ', length(tblbarrios))\n",
    "paste0('Los barrios son: ')\n",
    "unique(sort(airbnb$Barrio))"
   ]
  },
  {
   "cell_type": "markdown",
   "metadata": {},
   "source": [
    "¿Cuales son los 5 barrios que tienen mayor número entradas?"
   ]
  },
  {
   "cell_type": "code",
   "execution_count": null,
   "metadata": {
    "scrolled": true
   },
   "outputs": [],
   "source": [
    "l = length(tblbarrios)\n",
    "sort(tblbarrios)[l: (l-4)]"
   ]
  },
  {
   "cell_type": "markdown",
   "metadata": {},
   "source": [
    "¿Cuantos Tipos de Alquiler diferentes hay? ¿Cuales son? ¿Cuantas entradas en el dataframe hay por cada tipo?"
   ]
  },
  {
   "cell_type": "code",
   "execution_count": null,
   "metadata": {},
   "outputs": [],
   "source": [
    "numberTiposAlquiler = length(unique(sort(airbnb$TipoAlquiler)))\n",
    "paste0('Hay ', numberTiposAlquiler, ' tipos diferentes de alquiler' )\n",
    "paste0('Los tipos de alquiler son: ')\n",
    "\n",
    "unique(sort(airbnb$TipoAlquiler))\n",
    "tblTipoAlquiler = table(airbnb$TipoAlquiler)\n",
    "paste0('En número de registros por tipo de alquiler es: ')\n",
    "paste( paste0(names(tblTipoAlquiler), ':'), tblTipoAlquiler , sep=\" --> \" )"
   ]
  },
  {
   "cell_type": "markdown",
   "metadata": {},
   "source": [
    "Muestra el diagrama de cajas del precio para cada uno de los diferentes Tipos de Alquiler"
   ]
  },
  {
   "cell_type": "code",
   "execution_count": null,
   "metadata": {},
   "outputs": [],
   "source": [
    "options(repr.plot.height=20,repr.plot.width=25)\n",
    "ggplot(data=airbnb,aes(x=TipoAlquiler, y= Precio, color=airbnb$TipoAlquiler))+geom_boxplot(outlier.shape=16,\n",
    "             outlier.size=2, notch=F)+ scale_color_discrete(name=\"Tipo de Alquiler\")+\n",
    "             scale_y_continuous(breaks=seq(0, 500, 50))  # Ticks from 0-10, every .25\n",
    "# outlier.shape = NA - to hide outliers\n"
   ]
  },
  {
   "cell_type": "markdown",
   "metadata": {},
   "source": [
    "Cual es el precio medio de alquiler medio de cada uno, la diferencia que hay ¿es estadísticamente significativa?\n",
    "¿Con que test lo comprobarías?"
   ]
  },
  {
   "cell_type": "code",
   "execution_count": null,
   "metadata": {},
   "outputs": [],
   "source": [
    "airbnb$Precio = as.integer(airbnb$Precio)\n",
    "TipoAlquiler = unique(sort(airbnb$TipoAlquiler))\n",
    "\n",
    "mediasAlquileres = c()\n",
    "for (i in 1:numberTiposAlquiler){\n",
    "    idxA = which(airbnb$TipoAlquiler == names(tblTipoAlquiler)[i])\n",
    "    mediasAlquileres = c(mediasAlquileres, mean(na.omit(airbnb$Precio[idxA])))\n",
    "    precio = airbnb$Precio[idxA]\n",
    "    if (length(precio)>5000){\n",
    "        precio = precio[sample(5000)]\n",
    "    }\n",
    "    shapiroAlquiler = shapiro.test(precio)\n",
    "    print(paste('Tipo de alquiler: ',names(tblTipoAlquiler[i]),', p value de shapiro test es:', shapiroAlquiler$p.value))\n",
    "            \n",
    "}\n",
    "paste('Los precios medios son: ')\n",
    "paste( paste0(names(tblTipoAlquiler), ':'), round(mediasAlquileres,2) , sep=\" --> \" )\n",
    "\n",
    "paste('p values from the Shapiro test son << 0-05, por lo que indica que los \n",
    "datos son estadisticamente significativos y no siguen una distribuición normal ')\n",
    "paste('Aplicamos test de Kruskal ')\n",
    "\n",
    "#todosTipoAlquiler = data.frame(airbnb$Precio, airbnb$TipoPropiedad)\n",
    "todosTipoAlquiler = airbnb[,c(\"Precio\",\"TipoAlquiler\")]\n",
    "kruskalResult = kruskal.test (Precio ~ TipoAlquiler, data=todosTipoAlquiler)\n",
    "\n",
    "paste('p value is < 0.05 lo que indica que los valores de los 3 tipos de alquiler son estatisticamente\n",
    "significativos entre ellos con valor p value: ', kruskalResult$p.value)"
   ]
  },
  {
   "cell_type": "markdown",
   "metadata": {},
   "source": [
    "Filtra el dataframe cuyos tipo de alquiler sea  'Entire home/apt' y guardalo en un dataframe llamado \n",
    "*airbnb_entire*.\n",
    "Estas serán las entradas que tienen un alquiler del piso completo."
   ]
  },
  {
   "cell_type": "code",
   "execution_count": null,
   "metadata": {},
   "outputs": [],
   "source": [
    "airbnb_entire = subset(airbnb,TipoAlquiler == 'Entire home/apt')"
   ]
  },
  {
   "cell_type": "markdown",
   "metadata": {},
   "source": [
    "¿Cuales son los 5 barrios que tienen un mayor número de apartamentos enteros en alquiler?\n",
    "Nota: Mirar solo en airbnb_entire"
   ]
  },
  {
   "cell_type": "code",
   "execution_count": null,
   "metadata": {},
   "outputs": [],
   "source": [
    "tblBarrios_EntireHome = sort(table(airbnb_entire$Barrio))\n",
    "l = length(tblBarrios_EntireHome)\n",
    "\n",
    "paste('Los 5 barrios con opciones de apartamentos enteros para alquiler son: ')\n",
    "#tblBarrios_EntireHome[l: (l-4)]\n",
    "summary(airbnb_entire$Barrio)[1:5]"
   ]
  },
  {
   "cell_type": "markdown",
   "metadata": {},
   "source": [
    "¿Cuales son los 5 barrios que tienen un mayor precio medio de alquiler para apartamentos enteros?\n",
    "\n",
    "¿Cual es su precio medio?a\n",
    "\n",
    "Ayuda: Usa la función aggregate `aggregate(.~colname,df,mean,na.rm=TRUE)`"
   ]
  },
  {
   "cell_type": "code",
   "execution_count": null,
   "metadata": {},
   "outputs": [],
   "source": [
    "#airbnb_entire\n",
    "agg_meanBarrios_EntireHome = aggregate(airbnb_entire[,c(\"Precio\")],by=list(airbnb_entire$Barrio),FUN=mean, na.rm=TRUE)\n",
    "idx = order(-agg_meanBarrios_EntireHome$x)\n",
    "colnames(agg_meanBarrios_EntireHome) = c(\"Barrio\" , \"Precio\")\n",
    "\n",
    "paste('Los 5 barrios con opciones de apartamentos enteros mas caros son: ')\n",
    "paste( paste0(agg_meanBarrios_EntireHome$Barrio[idx[1:5]], ':'),\n",
    "      round(agg_meanBarrios_EntireHome$Precio[idx[1:5]], 2) , sep=\" --> \" )\n",
    "\n",
    "agg_meanBarrios_EntireHome\n"
   ]
  },
  {
   "cell_type": "markdown",
   "metadata": {},
   "source": [
    "¿Cuantos apartamentos hay en cada uno de esos barrios?\n",
    "\n",
    "Mostrar una dataframe con el nombre del barrio, el precio y el número de entradas.\n",
    "\n",
    "Ayuda: Podeis crear un nuevo dataframe con las columnas \"Barrio\" y \"Freq\" que contenga el número de entradas en cada barrio y hacer un merge con el dataframe del punto anterior."
   ]
  },
  {
   "cell_type": "code",
   "execution_count": null,
   "metadata": {},
   "outputs": [],
   "source": [
    "barriosTop = agg_meanBarrios_EntireHome$Barrio[idx[1:5]]\n",
    "tblBarriosTop = table(airbnb_entire$Barrio)[barriosTop]\n",
    "paste('Número de apartamentos en cada uno de los 5 barrios mas caros son: ')\n",
    "paste( paste0(names(tblBarriosTop), ':'), tblBarriosTop , sep=\" --> \" )\n",
    "\n",
    "df_barriosTop = data.frame(tblBarriosTop)\n",
    "names(df_barriosTop)[1] = \"Barrio\"\n",
    "\n",
    "airbnb_barriosTop = merge (df_barriosTop, agg_meanBarrios_EntireHome,  all.x = TRUE)\n",
    "airbnb_barriosTop"
   ]
  },
  {
   "cell_type": "markdown",
   "metadata": {},
   "source": [
    "Partiendo del dataframe anterior, muestra los 5 barrios con mayor precio, pero que tengan más de 100 entradas de alquiler."
   ]
  },
  {
   "cell_type": "code",
   "execution_count": null,
   "metadata": {},
   "outputs": [],
   "source": [
    "tbl_freq = data.frame(table(airbnb_entire$Barrio))\n",
    "names(tbl_freq)[1] = \"Barrio\"\n",
    "\n",
    "# todo el data frame ordenado\n",
    "airbnb_barrios = merge (agg_meanBarrios_EntireHome, tbl_freq, by=\"Barrio\")\n",
    "airbnb_barrios = airbnb_barrios[order(-airbnb_barrios$Precio),]\n",
    "airbnb_barrios_freq100 = subset(airbnb_barrios, airbnb_barrios$Freq > 100)[1:5,]\n",
    "airbnb_barrios_freq100\n",
    "airbnb_barrios_freq100[,1]"
   ]
  },
  {
   "cell_type": "markdown",
   "metadata": {},
   "source": [
    "Dibuja el diagrama de densidad de distribución de los diferentes precios"
   ]
  },
  {
   "cell_type": "code",
   "execution_count": null,
   "metadata": {},
   "outputs": [],
   "source": [
    "#lines(density(airbnb_barrios$Precio))\n",
    "barrios_freq100 = airbnb_barrios_freq100[,1]\n",
    "# %in% operator in R, is used to identify if an element belongs to a vector.\n",
    "airbnb_barrios_precios = subset(airbnb_entire,Barrio %in% barrios_freq100)\n",
    "\n",
    "ggplot(data=airbnb_barrios_precios, aes(x=Precio,color=Barrio))+geom_density()"
   ]
  },
  {
   "cell_type": "markdown",
   "metadata": {},
   "source": [
    "Calcula el tamaño medio, en metros cuadrados, para los 5 barrios anteriores y muestralo en el mismo dataframe junto con el precio y número de entradas"
   ]
  },
  {
   "cell_type": "code",
   "execution_count": null,
   "metadata": {},
   "outputs": [],
   "source": [
    "#airbnb_entire\n",
    "agg_meanM2Barrios_EntireHome = aggregate(airbnb_entire[,c(\"MetrosCuadrados\")],by=list(airbnb_entire$Barrio),FUN=mean, na.rm=TRUE)\n",
    "colnames(agg_meanM2Barrios_EntireHome) = c(\"Barrio\" , \"MetrosCuadrados\")\n",
    "\n",
    "airbnb_barrios_freq100M2 = merge (airbnb_barrios_freq100, agg_meanM2Barrios_EntireHome, all.x = TRUE)\n",
    "airbnb_barrios_freq100M2 "
   ]
  },
  {
   "cell_type": "markdown",
   "metadata": {},
   "source": [
    "Dibuja el diagrama de densidad de distribución de los diferentes tamaños de apartamentos"
   ]
  },
  {
   "cell_type": "code",
   "execution_count": null,
   "metadata": {},
   "outputs": [],
   "source": [
    "airbnb_barrios_M2 = subset(airbnb_entire,Barrio %in% barrios_freq100)\n",
    "\n",
    "ggplot(data=airbnb_barrios_M2, aes(x=MetrosCuadrados,color=Barrio))+geom_density()"
   ]
  },
  {
   "cell_type": "markdown",
   "metadata": {},
   "source": [
    "Esta claro que las medias de cada uno de estos 5 barrios parecen ser diferentes, pero ¿son estadísticamente diferentes?\n",
    "¿Que test habría que usar para comprobarlo?"
   ]
  },
  {
   "cell_type": "code",
   "execution_count": null,
   "metadata": {},
   "outputs": [],
   "source": [
    "kruskalResult2 = kruskal.test (MetrosCuadrados ~ Barrio, data=airbnb_barrios_M2)\n",
    "kruskalResult2\n",
    "\n",
    "paste('Uso el test de Kruskal, porque de las gráficas veo que la densidad de distribución\n",
    "no sigue una distribucion normal, por lo que no necesito ejecutar shapiro como antes para cada uno de los grupos')\n",
    "\n",
    "paste('p value is < 0.05 lo que indica que los valores de los 5 barrios son estatisticamente\n",
    "significativos entre ellos con valor p value: ', kruskalResult2$p.value)\n",
    "\n"
   ]
  },
  {
   "cell_type": "markdown",
   "metadata": {},
   "source": [
    "Para únicamente los pisos de alquiler en el barrio de Sol:\n",
    "\n",
    "``barrio_sol<-subset(airbnb_entire,Barrio==\"Sol\")``\n",
    "\n",
    "Calcular un modelo lineal que combine alguna de estas variables:\n",
    "* NumBanyos\n",
    "* NumDormitorios\n",
    "* MaxOcupantes\n",
    "* MetrosCuadrados"
   ]
  },
  {
   "cell_type": "code",
   "execution_count": null,
   "metadata": {},
   "outputs": [],
   "source": [
    "barrio_sol<-subset(airbnb_entire,Barrio==\"Sol\") \n",
    "barrio_sol"
   ]
  },
  {
   "cell_type": "markdown",
   "metadata": {},
   "source": [
    "Primero calculamos la correlación para ver como se relacionan estas variables entre sí."
   ]
  },
  {
   "cell_type": "code",
   "execution_count": null,
   "metadata": {},
   "outputs": [],
   "source": [
    "matriz_cr = cor(cbind( barrio_sol$NumBanyos,  barrio_sol$NumDormitorios, barrio_sol$MaxOcupantes,\n",
    "                      barrio_sol$MetrosCuadrados), use=\"complete.obs\")\n",
    "colnames(matriz_cr) = c(\"NumBanyos\" , \"NumDormitorios\", \"MaxOcupantes\", \"MetrosCuadrados\")\n",
    "rownames(matriz_cr) = c(\"NumBanyos\" , \"NumDormitorios\", \"MaxOcupantes\", \"MetrosCuadrados\")\n",
    "matriz_cr"
   ]
  },
  {
   "cell_type": "markdown",
   "metadata": {},
   "source": [
    "Se observa que la correlación entre el número de dormitorios y los metros cuadrados es sorprendentemente baja.\n",
    "¿Son de fiar esos números?\n",
    "\n",
    "Mediante un histograma o curvas de densidad podemos descartar números que notienen sentido en el dataframe barrio_sol,\n",
    "para tener una matriz de correlación que tenga mayor sentido.\n"
   ]
  },
  {
   "cell_type": "code",
   "execution_count": null,
   "metadata": {},
   "outputs": [],
   "source": [
    "#ggplot(data=barrio_sol, aes(x=MetrosCuadrados))+geom_density(bw=5)\n",
    "hist(barrio_sol$MetrosCuadrados, 15, xlab=\"metros cuadrados\", ylab=\"Frecuencia\", main=\"Barrio Sol\")\n",
    "paste('Viendo el histograma, no tiene sentido que haya registros para apartamentos enteros con menos de 25 m2,\n",
    "por lo que vamos a filtar estas lineas.')"
   ]
  },
  {
   "cell_type": "code",
   "execution_count": null,
   "metadata": {},
   "outputs": [],
   "source": [
    "barrio_sol = subset (barrio_sol, MetrosCuadrados > 25)\n",
    "matriz_cr2 = cor(cbind( barrio_sol$NumBanyos,  barrio_sol$NumDormitorios, barrio_sol$MaxOcupantes,\n",
    "                      barrio_sol$MetrosCuadrados), use=\"complete.obs\")\n",
    "colnames(matriz_cr2) = c(\"NumBanyos\" , \"NumDormitorios\", \"MaxOcupantes\", \"MetrosCuadrados\")\n",
    "rownames(matriz_cr2) = c(\"NumBanyos\" , \"NumDormitorios\", \"MaxOcupantes\", \"MetrosCuadrados\")\n",
    "matriz_cr2\n"
   ]
  },
  {
   "cell_type": "markdown",
   "metadata": {},
   "source": [
    "\n",
    "Una vez que hayamos filtrado los datos correspondientes calcular el valor o la combinación de valores que mejor nos permite obtener el precio de un inmueble."
   ]
  },
  {
   "cell_type": "code",
   "execution_count": null,
   "metadata": {},
   "outputs": [],
   "source": [
    "#plot(barrio_sol$Precio , barrio_sol$NumBanyos )\n",
    "mod1 = lm (barrio_sol$Precio ~  barrio_sol$NumBanyos)\n",
    "mod2 = lm (barrio_sol$Precio ~  barrio_sol$NumDormitorios)\n",
    "mod3 = lm (barrio_sol$Precio ~  barrio_sol$MaxOcupantes)\n",
    "mod4 = lm (barrio_sol$Precio ~  barrio_sol$MetrosCuadrados)\n",
    "mod5= lm (barrio_sol$Precio ~  barrio_sol$NumBanyos + barrio_sol$NumDormitorios\n",
    "          + barrio_sol$MaxOcupantes + barrio_sol$MetrosCuadrados)\n",
    "\n",
    "paste('Modelo de regresión lineal respecto al número de baños')\n",
    "\n",
    "summary(mod1)\n",
    "paste('Modelo de regresión lineal respecto al número de dormitorios')\n",
    "summary(mod2)\n",
    "paste('Modelo de regresión lineal respecto al número de ocupantes')\n",
    "summary(mod3)\n",
    "paste('Modelo de regresión lineal respecto al número de metros cuadrados')\n",
    "summary(mod4)\n",
    "paste('Modelo de regresión lineal respecto a la suma de las cuatro variables anteriores')\n",
    "summary(mod5)\n"
   ]
  },
  {
   "cell_type": "markdown",
   "metadata": {},
   "source": [
    "¿Que variable es más fiable para conocer el precio de un inmueble, el número de habitaciones o los metros cuadrados?"
   ]
  },
  {
   "cell_type": "code",
   "execution_count": null,
   "metadata": {},
   "outputs": [],
   "source": [
    "paste('Basandonos en el p-value, el valor mas bajo nos indica que la incertidumbre del coeficiente es baja, \n",
    "y por lo tanto me puedo fiar de que tenga peso en relación con el precio.\n",
    "En este caso el p-value mas pequeño es el NumDormitorios en la propiedad')"
   ]
  },
  {
   "cell_type": "markdown",
   "metadata": {},
   "source": [
    "Responde con su correspondiente margen de error del 95%, ¿cuantos euros incrementa el precio del alquiler por cada metro cuadrado extra del piso?"
   ]
  },
  {
   "cell_type": "code",
   "execution_count": null,
   "metadata": {},
   "outputs": [],
   "source": [
    "t4 = summary(mod4)\n",
    "confint(mod4)\n",
    "\n",
    "paste0('El precio se ve incrementado en un factor de ' , round(t4$coefficients[2,1], 5),\n",
    "' con factor mínimo de ', round(confint(mod4)[2,1],5) , \n",
    "' y un factor máximo de ', round(confint(mod4)[2,2],5))"
   ]
  },
  {
   "cell_type": "markdown",
   "metadata": {},
   "source": [
    "Responde con su correspondiente margen de error del 95%, ¿cuantos euros incrementa el precio del alquiler por cada habitación?"
   ]
  },
  {
   "cell_type": "code",
   "execution_count": null,
   "metadata": {},
   "outputs": [],
   "source": [
    "t2 = summary(mod2)\n",
    "confint(mod2)\n",
    "\n",
    "paste0('El precio se ve incrementado en un factor de ' , round(t2$coefficients[2,1], 5),\n",
    "' con factor mínimo de ', round(confint(mod2)[2,1],5) , \n",
    "' y un factor máximo de ', round(confint(mod2)[2,2],5))"
   ]
  },
  {
   "cell_type": "markdown",
   "metadata": {},
   "source": [
    "¿Cual es la probabilidad de encontrar, en el barrio de Sol, un apartamento en alquiler con 3 dormitorios?\n",
    "¿Cual es el margen de error de esa probabilidad?"
   ]
  },
  {
   "cell_type": "code",
   "execution_count": null,
   "metadata": {},
   "outputs": [],
   "source": [
    "barrio_sol_3dormitorios = subset(airbnb_entire,Barrio==\"Sol\" & NumDormitorios == '3') \n",
    "Total_barrio_sol = nrow(subset(airbnb_entire,Barrio==\"Sol\"))\n",
    "Total_barrio_sol_3dorm = nrow(barrio_sol_3dormitorios)\n",
    "Prb_barrio_sol_3dorm = Total_barrio_sol_3dorm / Total_barrio_sol\n",
    "\n",
    "paste('La probabilidad de encontrar un apartamento con 3 dormitorios en el barrio de sol es ', \n",
    "      round(Prb_barrio_sol_3dorm*100, 2), '%' )"
   ]
  },
  {
   "cell_type": "code",
   "execution_count": null,
   "metadata": {},
   "outputs": [],
   "source": [
    "ci = Prb_barrio_sol_3dorm -qnorm(0.975)*sqrt((Prb_barrio_sol_3dorm)*(1-Total_barrio_sol_3dorm/Total_barrio_sol)/Total_barrio_sol)\n",
    "cs = Prb_barrio_sol_3dorm +qnorm(0.975)*sqrt((Prb_barrio_sol_3dorm)*(1-Total_barrio_sol_3dorm/Total_barrio_sol)/Total_barrio_sol)\n",
    "\n",
    "paste('La probabilidad de encontrar un alquiler en SOL con 3 dormitorios con una confianza del 95% está entre ', \n",
    "      round(ci*100, 2), '%  y ',  round(cs*100, 2), '%' )"
   ]
  }
 ],
 "metadata": {
  "kernelspec": {
   "display_name": "R",
   "language": "R",
   "name": "ir"
  },
  "language_info": {
   "codemirror_mode": "r",
   "file_extension": ".r",
   "mimetype": "text/x-r-source",
   "name": "R",
   "pygments_lexer": "r",
   "version": "3.6.0"
  }
 },
 "nbformat": 4,
 "nbformat_minor": 2
}
